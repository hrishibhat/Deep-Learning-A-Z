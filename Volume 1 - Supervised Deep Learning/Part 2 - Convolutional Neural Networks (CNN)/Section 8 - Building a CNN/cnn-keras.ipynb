{
 "cells": [
  {
   "cell_type": "code",
   "execution_count": 1,
   "metadata": {},
   "outputs": [
    {
     "name": "stderr",
     "output_type": "stream",
     "text": [
      "Using TensorFlow backend.\n"
     ]
    }
   ],
   "source": [
    "# part 1 - Building the CNN\n",
    "# import the keras liabraries and packages\n",
    "from keras.models import Sequential\n",
    "from keras.layers import Conv2D\n",
    "from keras.layers import MaxPool2D\n",
    "from keras.layers import Flatten\n",
    "from keras.layers import Dense"
   ]
  },
  {
   "cell_type": "code",
   "execution_count": 2,
   "metadata": {
    "collapsed": true
   },
   "outputs": [],
   "source": [
    "# initializing cnn\n",
    "\n",
    "classifier = Sequential()"
   ]
  },
  {
   "cell_type": "code",
   "execution_count": 3,
   "metadata": {
    "collapsed": true
   },
   "outputs": [],
   "source": [
    "# Step 1: Convolution\n",
    "# Step 2: Max Pooling\n",
    "# Step 3: Flatteing\n",
    "# Step 4: Full Connection"
   ]
  },
  {
   "cell_type": "code",
   "execution_count": 4,
   "metadata": {
    "collapsed": true
   },
   "outputs": [],
   "source": [
    "# Step 1: Adding Convulution\n",
    "classifier.add(Conv2D(filters=32, kernel_size=(3,3), input_shape=(64,64,3),activation='relu',\n",
    "                      strides=(1,1), padding='same', kernel_initializer= 'glorot_uniform',\n",
    "                      use_bias = True, bias_initializer='zeros'))"
   ]
  },
  {
   "cell_type": "code",
   "execution_count": 5,
   "metadata": {
    "collapsed": true
   },
   "outputs": [],
   "source": [
    "# Step 2: Max Pooling\n",
    "classifier.add(MaxPool2D(pool_size=(2,2), padding='same'))\n",
    "# it reduces conv of 32,64,64 into 64,2,2"
   ]
  },
  {
   "cell_type": "code",
   "execution_count": 6,
   "metadata": {
    "collapsed": true
   },
   "outputs": [],
   "source": [
    "# Step 3: Flattening\n",
    "classifier.add(Flatten())\n",
    "# it just mulitpy 64*2*2 = 128"
   ]
  },
  {
   "cell_type": "code",
   "execution_count": 7,
   "metadata": {
    "collapsed": true
   },
   "outputs": [],
   "source": [
    "# Step 4: Full Connection\n",
    "\n",
    "# Adding the Input layer and the first hidden layer in Dense method\n",
    "# choosing unit =6 is an art, basically u average total dimensions of output and input layer\n",
    "# so, total dim in input layer is flatten which is around ~256 and total dim in output layer is 1, so (256 + 1) / number of layers\n",
    "# => 256/2 = 128\n",
    "classifier.add(Dense(units=128, activation='relu',\n",
    "                     kernel_initializer= 'glorot_uniform', use_bias=True,  bias_initializer='zeros'))\n",
    "\n",
    "# Adding the output layer\n",
    "classifier.add(Dense(units=1, activation='sigmoid',\n",
    "                     kernel_initializer= 'glorot_uniform', use_bias=True,  bias_initializer='zeros'))"
   ]
  },
  {
   "cell_type": "code",
   "execution_count": 8,
   "metadata": {
    "collapsed": true
   },
   "outputs": [],
   "source": [
    "#  Compling the ANN\n",
    "classifier.compile(optimizer='adam', loss='binary_crossentropy', metrics=['accuracy'])"
   ]
  },
  {
   "cell_type": "code",
   "execution_count": null,
   "metadata": {},
   "outputs": [
    {
     "name": "stdout",
     "output_type": "stream",
     "text": [
      "Found 8000 images belonging to 2 classes.\n",
      "Found 2000 images belonging to 2 classes.\n"
     ]
    }
   ],
   "source": [
    "# Image PreProcessing before training\n",
    "# Image augmentation process to avoid overfitting\n",
    "\n",
    "# we will using ImageDataGenerator using Keras Preporcessing Image module\n",
    "\n",
    "from keras.preprocessing.image import ImageDataGenerator\n",
    "\n",
    "train_datagen = ImageDataGenerator(\n",
    "        rescale=1./255,\n",
    "        shear_range=0.2,\n",
    "        zoom_range=0.2,\n",
    "        horizontal_flip=True)\n",
    "\n",
    "test_datagen = ImageDataGenerator(rescale=1./255)\n",
    "\n",
    "train_set_generator = train_datagen.flow_from_directory(\n",
    "        'dataset/training_set',\n",
    "        target_size=(64, 64),\n",
    "        batch_size=8,\n",
    "        class_mode='binary')\n",
    "\n",
    "test_set_generator = test_datagen.flow_from_directory(\n",
    "        'dataset/test_set',\n",
    "        target_size=(64, 64),\n",
    "        batch_size=8,\n",
    "        class_mode='binary')"
   ]
  },
  {
   "cell_type": "code",
   "execution_count": null,
   "metadata": {},
   "outputs": [
    {
     "name": "stdout",
     "output_type": "stream",
     "text": [
      "Epoch 1/10\n",
      "5324/8000 [==================>...........] - ETA: 283s - loss: 0.5727 - acc: 0.6937"
     ]
    }
   ],
   "source": [
    "# # Training\n",
    "# # Keras models are trained on Numpy arrays of input data and labels.\n",
    "# # For training a model, you will typically use the  fit function.\n",
    "\n",
    "classifier.fit_generator(\n",
    "        train_set_generator,\n",
    "        steps_per_epoch=8000,\n",
    "        epochs=10,\n",
    "        validation_data=test_set_generator,\n",
    "        validation_steps=2000)"
   ]
  },
  {
   "cell_type": "code",
   "execution_count": null,
   "metadata": {
    "collapsed": true
   },
   "outputs": [],
   "source": []
  }
 ],
 "metadata": {
  "kernelspec": {
   "display_name": "Python 3",
   "language": "python",
   "name": "python3"
  },
  "language_info": {
   "codemirror_mode": {
    "name": "ipython",
    "version": 3
   },
   "file_extension": ".py",
   "mimetype": "text/x-python",
   "name": "python",
   "nbconvert_exporter": "python",
   "pygments_lexer": "ipython3",
   "version": "3.6.1"
  }
 },
 "nbformat": 4,
 "nbformat_minor": 2
}
