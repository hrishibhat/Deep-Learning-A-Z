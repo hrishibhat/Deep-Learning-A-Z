{
 "cells": [
  {
   "cell_type": "markdown",
   "metadata": {},
   "source": [
    "# Part 1: Data Preprocessing"
   ]
  },
  {
   "cell_type": "code",
   "execution_count": 33,
   "metadata": {
    "collapsed": true
   },
   "outputs": [],
   "source": [
    "# Import usual suspects\n",
    "import numpy as np\n",
    "import pandas as pd"
   ]
  },
  {
   "cell_type": "code",
   "execution_count": 34,
   "metadata": {},
   "outputs": [
    {
     "data": {
      "text/html": [
       "<div>\n",
       "<table border=\"1\" class=\"dataframe\">\n",
       "  <thead>\n",
       "    <tr style=\"text-align: right;\">\n",
       "      <th></th>\n",
       "      <th>0</th>\n",
       "      <th>1</th>\n",
       "      <th>2</th>\n",
       "      <th>3</th>\n",
       "      <th>4</th>\n",
       "      <th>5</th>\n",
       "    </tr>\n",
       "  </thead>\n",
       "  <tbody>\n",
       "    <tr>\n",
       "      <th>0</th>\n",
       "      <td>8</td>\n",
       "      <td>13</td>\n",
       "      <td>26</td>\n",
       "      <td>35</td>\n",
       "      <td>45</td>\n",
       "      <td>51</td>\n",
       "    </tr>\n",
       "    <tr>\n",
       "      <th>1</th>\n",
       "      <td>1</td>\n",
       "      <td>15</td>\n",
       "      <td>24</td>\n",
       "      <td>31</td>\n",
       "      <td>34</td>\n",
       "      <td>44</td>\n",
       "    </tr>\n",
       "    <tr>\n",
       "      <th>2</th>\n",
       "      <td>3</td>\n",
       "      <td>8</td>\n",
       "      <td>29</td>\n",
       "      <td>30</td>\n",
       "      <td>31</td>\n",
       "      <td>49</td>\n",
       "    </tr>\n",
       "    <tr>\n",
       "      <th>3</th>\n",
       "      <td>21</td>\n",
       "      <td>25</td>\n",
       "      <td>39</td>\n",
       "      <td>50</td>\n",
       "      <td>54</td>\n",
       "      <td>59</td>\n",
       "    </tr>\n",
       "    <tr>\n",
       "      <th>4</th>\n",
       "      <td>15</td>\n",
       "      <td>19</td>\n",
       "      <td>32</td>\n",
       "      <td>38</td>\n",
       "      <td>47</td>\n",
       "      <td>50</td>\n",
       "    </tr>\n",
       "  </tbody>\n",
       "</table>\n",
       "</div>"
      ],
      "text/plain": [
       "    0   1   2   3   4   5\n",
       "0   8  13  26  35  45  51\n",
       "1   1  15  24  31  34  44\n",
       "2   3   8  29  30  31  49\n",
       "3  21  25  39  50  54  59\n",
       "4  15  19  32  38  47  50"
      ]
     },
     "execution_count": 34,
     "metadata": {},
     "output_type": "execute_result"
    }
   ],
   "source": [
    "# Importing  the training set\n",
    "pd_training_set = pd.read_csv('Lottery_NY_Lotto_Winning_Numbers__Beginning_2001_without_bonus.csv', header=None)\n",
    "pd_training_set.head()"
   ]
  },
  {
   "cell_type": "code",
   "execution_count": 35,
   "metadata": {
    "collapsed": true
   },
   "outputs": [],
   "source": [
    "# Training Set\n",
    "# now add each column of six rows into next 6 rows of first column\n",
    "two_dim_lotto_array_train = []\n",
    "# take 300 rows less from total for testing and rest use for training\n",
    "for col in pd_training_set.iloc[:-300,:].values:\n",
    "#     print (col)\n",
    "    for row in col:\n",
    "        two_dim_lotto_array_train.append([row])\n",
    "#         print (row)"
   ]
  },
  {
   "cell_type": "code",
   "execution_count": 36,
   "metadata": {},
   "outputs": [
    {
     "name": "stdout",
     "output_type": "stream",
     "text": [
      "<class 'numpy.ndarray'>\n",
      "2\n",
      "(7968, 1)\n",
      "[[ 8]\n",
      " [13]\n",
      " [26]\n",
      " ..., \n",
      " [29]\n",
      " [46]\n",
      " [50]]\n"
     ]
    }
   ],
   "source": [
    "# convert python list into numpy array\n",
    "training_set_val = np.array(two_dim_lotto_array_train, ndmin=2)\n",
    "\n",
    "print (type(training_set_val))\n",
    "print (training_set_val.ndim)\n",
    "print (training_set_val.shape)\n",
    "print (training_set_val)"
   ]
  },
  {
   "cell_type": "code",
   "execution_count": 37,
   "metadata": {},
   "outputs": [
    {
     "name": "stdout",
     "output_type": "stream",
     "text": [
      "[[ 0.13559322]\n",
      " [ 0.22033898]\n",
      " [ 0.44067797]\n",
      " ..., \n",
      " [ 0.49152542]\n",
      " [ 0.77966102]\n",
      " [ 0.84745763]]\n",
      "<class 'numpy.ndarray'>\n",
      "2\n",
      "(7968, 1)\n"
     ]
    }
   ],
   "source": [
    "# Now, let's do normalization\n",
    "# from sklearn.preprocessing import MinMaxScaler\n",
    "# sc = MinMaxScaler()\n",
    "# # Accuracy: 0.0317802805365\n",
    "\n",
    "from sklearn.preprocessing import MaxAbsScaler\n",
    "sc = MaxAbsScaler()\n",
    "#  Accuracy: 0.0293846626395\n",
    "\n",
    "\n",
    "\n",
    "# from sklearn.preprocessing import RobustScaler\n",
    "# sc = RobustScaler()\n",
    "# # Accuracy: 0.0377802805365\n",
    "\n",
    "\n",
    "training_set = sc.fit_transform(training_set_val)\n",
    "print (training_set)\n",
    "print (type(training_set))\n",
    "print (training_set.ndim)\n",
    "print (training_set.shape)\n",
    "\n",
    "# ALSO TRY STANDARDIZATION INSTEAD OF NORMALIZATION\n",
    "\n",
    "# from sklearn.preprocessing import StandardScaler\n",
    "# sc = StandardScaler()\n",
    "\n",
    "# training_set = sc.fit_transform(training_set_val)\n",
    "# print (training_set)\n",
    "# print (type(training_set))\n",
    "# print (training_set.ndim)\n",
    "# print (training_set.shape)\n",
    "\n"
   ]
  },
  {
   "cell_type": "code",
   "execution_count": 39,
   "metadata": {},
   "outputs": [],
   "source": [
    "# Creating a data structure with 60 timesteps and t+1 output\n",
    "X_train = []\n",
    "y_train = []\n",
    "for i in range(60, 7968):\n",
    "    X_train.append(training_set[i-60:i, 0])\n",
    "    y_train.append(training_set[i, 0])\n",
    "X_train, y_train = np.array(X_train), np.array(y_train)"
   ]
  },
  {
   "cell_type": "code",
   "execution_count": 6,
   "metadata": {},
   "outputs": [
    {
     "name": "stdout",
     "output_type": "stream",
     "text": [
      "[[ 0.13559322]\n",
      " [ 0.22033898]\n",
      " [ 0.44067797]\n",
      " ..., \n",
      " [ 0.3220339 ]\n",
      " [ 0.49152542]\n",
      " [ 0.77966102]]\n"
     ]
    }
   ],
   "source": [
    "# # IMPORTANT Now we are setting X_train and y_train\n",
    "# # X_train is time at 0 value and y_train is time at +1 value\n",
    "# X_train = training_set[0:7967]\n",
    "# print (X_train)"
   ]
  },
  {
   "cell_type": "code",
   "execution_count": 7,
   "metadata": {},
   "outputs": [
    {
     "name": "stdout",
     "output_type": "stream",
     "text": [
      "[[ 0.22033898]\n",
      " [ 0.44067797]\n",
      " [ 0.59322034]\n",
      " ..., \n",
      " [ 0.49152542]\n",
      " [ 0.77966102]\n",
      " [ 0.84745763]]\n"
     ]
    }
   ],
   "source": [
    "# # y_train is time+1 value\n",
    "# y_train = training_set[1:7968]\n",
    "# print (y_train)"
   ]
  },
  {
   "cell_type": "code",
   "execution_count": 40,
   "metadata": {},
   "outputs": [
    {
     "name": "stdout",
     "output_type": "stream",
     "text": [
      "[[[ 0.13559322]\n",
      "  [ 0.22033898]\n",
      "  [ 0.44067797]\n",
      "  ..., \n",
      "  [ 0.59322034]\n",
      "  [ 0.69491525]\n",
      "  [ 0.83050847]]\n",
      "\n",
      " [[ 0.22033898]\n",
      "  [ 0.44067797]\n",
      "  [ 0.59322034]\n",
      "  ..., \n",
      "  [ 0.69491525]\n",
      "  [ 0.83050847]\n",
      "  [ 0.08474576]]\n",
      "\n",
      " [[ 0.44067797]\n",
      "  [ 0.59322034]\n",
      "  [ 0.76271186]\n",
      "  ..., \n",
      "  [ 0.83050847]\n",
      "  [ 0.08474576]\n",
      "  [ 0.13559322]]\n",
      "\n",
      " ..., \n",
      " [[ 0.79661017]\n",
      "  [ 0.83050847]\n",
      "  [ 0.96610169]\n",
      "  ..., \n",
      "  [ 0.03389831]\n",
      "  [ 0.20338983]\n",
      "  [ 0.3220339 ]]\n",
      "\n",
      " [[ 0.83050847]\n",
      "  [ 0.96610169]\n",
      "  [ 0.15254237]\n",
      "  ..., \n",
      "  [ 0.20338983]\n",
      "  [ 0.3220339 ]\n",
      "  [ 0.49152542]]\n",
      "\n",
      " [[ 0.96610169]\n",
      "  [ 0.15254237]\n",
      "  [ 0.16949153]\n",
      "  ..., \n",
      "  [ 0.3220339 ]\n",
      "  [ 0.49152542]\n",
      "  [ 0.77966102]]]\n"
     ]
    }
   ],
   "source": [
    "# Now, Reshaping for keras before training, as it requires 3 dimenions\n",
    "\n",
    "# changing from 2 to 3 dimension array, by addding time step as 3rd dimension\n",
    "# corresponds to (batch_size, timesteps, input_dim)\n",
    "# X_train = np.reshape(X_train,(7967,1,1))\n",
    "\n",
    "# Reshaping\n",
    "X_train = np.reshape(X_train, (X_train.shape[0], X_train.shape[1], 1))\n",
    "\n",
    "print (X_train)"
   ]
  },
  {
   "cell_type": "markdown",
   "metadata": {},
   "source": [
    "# Part 2: Initializing the RNN"
   ]
  },
  {
   "cell_type": "code",
   "execution_count": 41,
   "metadata": {},
   "outputs": [],
   "source": [
    "# importing the Keras liabraries and packages\n",
    "from keras.models import Sequential\n",
    "from keras.layers import Dense\n",
    "from keras.layers import LSTM"
   ]
  },
  {
   "cell_type": "code",
   "execution_count": 42,
   "metadata": {},
   "outputs": [],
   "source": [
    "# Create a regressor bassed upon sequential RNN\n",
    "# classifier = Sequential()\n",
    "# classifier.add(LSTM(units=10, activation='sigmoid', input_shape=(None, 1)))\n",
    "# classifier.add(Dense(units=1))\n",
    "regressor = Sequential()\n",
    "regressor.add(LSTM(units=4, activation='sigmoid', input_shape=(None, 1), return_sequences = True))\n",
    "regressor.add(LSTM(units=4, activation='sigmoid', return_sequences = True))\n",
    "regressor.add(LSTM(units=4, activation='sigmoid', return_sequences = True))\n",
    "regressor.add(LSTM(units=4, activation='sigmoid'))\n",
    "regressor.add(Dense(units=1))"
   ]
  },
  {
   "cell_type": "code",
   "execution_count": 43,
   "metadata": {
    "collapsed": true
   },
   "outputs": [],
   "source": [
    "# Now, let' compile our RNN regressor\n",
    "# classifier.compile(optimizer='rmsprop', loss='categorical_crossentropy')\n",
    "regressor.compile(optimizer='rmsprop', loss='mean_squared_error')"
   ]
  },
  {
   "cell_type": "code",
   "execution_count": null,
   "metadata": {},
   "outputs": [
    {
     "name": "stdout",
     "output_type": "stream",
     "text": [
      "Epoch 1/50\n",
      "7908/7908 [==============================] - 102s - loss: 0.0868   \n",
      "Epoch 2/50\n",
      "7908/7908 [==============================] - 104s - loss: 0.0829   \n",
      "Epoch 3/50\n",
      "7908/7908 [==============================] - 100s - loss: 0.0829   \n",
      "Epoch 4/50\n",
      "7908/7908 [==============================] - 98s - loss: 0.0829    \n",
      "Epoch 5/50\n",
      "6432/7908 [=======================>......] - ETA: 18s - loss: 0.0833"
     ]
    }
   ],
   "source": [
    "regressor.fit(X_train ,y_train, batch_size=32, epochs=50)"
   ]
  },
  {
   "cell_type": "markdown",
   "metadata": {},
   "source": [
    "# Part 3: Making Prediction"
   ]
  },
  {
   "cell_type": "code",
   "execution_count": 13,
   "metadata": {
    "collapsed": true
   },
   "outputs": [],
   "source": [
    "# Testing Set\n",
    "# now add each column of six rows into next 6 rows of first column\n",
    "two_dim_lotto_array_test = []\n",
    "# take all rows less from total for testing and rest use for training\n",
    "for col in pd_training_set.iloc[:,:].values:\n",
    "#     print (col)\n",
    "    for row in col:\n",
    "        two_dim_lotto_array_test.append([row])\n",
    "#         print (row)"
   ]
  },
  {
   "cell_type": "code",
   "execution_count": 14,
   "metadata": {},
   "outputs": [
    {
     "name": "stdout",
     "output_type": "stream",
     "text": [
      "<class 'numpy.ndarray'>\n",
      "2\n",
      "(9768, 1)\n",
      "[[ 8]\n",
      " [13]\n",
      " [26]\n",
      " ..., \n",
      " [17]\n",
      " [26]\n",
      " [55]]\n"
     ]
    }
   ],
   "source": [
    "# convert python list into numpy array\n",
    "testing_set_val = np.array(two_dim_lotto_array_test, ndmin=2)\n",
    "\n",
    "print (type(testing_set_val))\n",
    "print (testing_set_val.ndim)\n",
    "print (testing_set_val.shape)\n",
    "print (testing_set_val)"
   ]
  },
  {
   "cell_type": "code",
   "execution_count": 15,
   "metadata": {},
   "outputs": [
    {
     "name": "stdout",
     "output_type": "stream",
     "text": [
      "<class 'numpy.ndarray'>\n",
      "2\n",
      "(9768, 1)\n"
     ]
    }
   ],
   "source": [
    "# NOw let's take only open price of stock\n",
    "# if we choose pd_training_set.iloc[:,1] It will be only 1 dim pandas series\n",
    "# however, we need 2 dimension, so\n",
    "real_lotto_numbers = testing_set_val\n",
    "print (type(real_lotto_numbers))\n",
    "print (real_lotto_numbers.ndim)\n",
    "print (real_lotto_numbers.shape)\n",
    "# print (real_lotto_numbers)"
   ]
  },
  {
   "cell_type": "code",
   "execution_count": 16,
   "metadata": {},
   "outputs": [
    {
     "name": "stdout",
     "output_type": "stream",
     "text": [
      "<class 'numpy.ndarray'>\n",
      "2\n",
      "(9767, 1)\n",
      "[[ 0.13559322]\n",
      " [ 0.22033898]\n",
      " [ 0.44067797]\n",
      " ..., \n",
      " [ 0.20338983]\n",
      " [ 0.28813559]\n",
      " [ 0.44067797]]\n"
     ]
    }
   ],
   "source": [
    "X_test = real_lotto_numbers[0:9767]\n",
    "X_test = sc.fit_transform(X_test)\n",
    "print (type(X_test))\n",
    "print (X_test.ndim)\n",
    "print (X_test.shape)\n",
    "print (X_test)\n",
    "# in the end inverse fit transform to get normal stock open price back\n",
    "# X_test = real_lotto_numbers"
   ]
  },
  {
   "cell_type": "code",
   "execution_count": 17,
   "metadata": {},
   "outputs": [
    {
     "name": "stdout",
     "output_type": "stream",
     "text": [
      "[[13]\n",
      " [26]\n",
      " [35]\n",
      " ..., \n",
      " [17]\n",
      " [26]\n",
      " [55]]\n",
      "<class 'numpy.ndarray'>\n",
      "2\n",
      "(9767, 1)\n",
      "[[13]\n",
      " [26]\n",
      " [35]\n",
      " ..., \n",
      " [17]\n",
      " [26]\n",
      " [55]]\n"
     ]
    }
   ],
   "source": [
    "# same for X_test\n",
    "y_test = real_lotto_numbers[1:9768]\n",
    "print (y_test)\n",
    "print (type(y_test))\n",
    "print (y_test.ndim)\n",
    "print (y_test.shape)\n",
    "print (y_test)"
   ]
  },
  {
   "cell_type": "code",
   "execution_count": 18,
   "metadata": {},
   "outputs": [
    {
     "name": "stdout",
     "output_type": "stream",
     "text": [
      "<class 'numpy.ndarray'>\n",
      "3\n",
      "(9767, 1, 1)\n",
      "[[[ 0.13559322]]\n",
      "\n",
      " [[ 0.22033898]]\n",
      "\n",
      " [[ 0.44067797]]\n",
      "\n",
      " ..., \n",
      " [[ 0.20338983]]\n",
      "\n",
      " [[ 0.28813559]]\n",
      "\n",
      " [[ 0.44067797]]]\n"
     ]
    }
   ],
   "source": [
    "# Reshaping\n",
    "\n",
    "# chaging from 2 to 3 dimension array, by addding time step as 3rd dimension\n",
    "# corresponds to (batch_size, timesteps, input_dim)\n",
    "test_inputs = np.reshape(X_test,(9767,1,1))\n",
    "print (type(test_inputs))\n",
    "print (test_inputs.ndim)\n",
    "print (test_inputs.shape)\n",
    "print (test_inputs)"
   ]
  },
  {
   "cell_type": "code",
   "execution_count": 19,
   "metadata": {},
   "outputs": [
    {
     "name": "stderr",
     "output_type": "stream",
     "text": [
      "/Users/pankajmathur/anaconda/envs/keras-playground/lib/python3.6/site-packages/keras/backend/tensorflow_backend.py:2094: UserWarning: Expected no kwargs, you passed 1\n",
      "kwargs passed to function are ignored with Tensorflow backend\n",
      "  warnings.warn('\\n'.join(msg))\n"
     ]
    },
    {
     "name": "stdout",
     "output_type": "stream",
     "text": [
      "<class 'numpy.ndarray'>\n",
      "2\n",
      "(9767, 1)\n",
      "[[ 0.37335977]\n",
      " [ 0.41680336]\n",
      " [ 0.50441271]\n",
      " ..., \n",
      " [ 0.4085049 ]\n",
      " [ 0.44783846]\n",
      " [ 0.50441271]]\n"
     ]
    }
   ],
   "source": [
    "# Now, let's predict\n",
    "y_predicted = regressor.predict(test_inputs)\n",
    "print (type(y_predicted))\n",
    "print (y_predicted.ndim)\n",
    "print (y_predicted.shape)\n",
    "print (y_predicted)"
   ]
  },
  {
   "cell_type": "code",
   "execution_count": 20,
   "metadata": {},
   "outputs": [
    {
     "name": "stdout",
     "output_type": "stream",
     "text": [
      "<class 'numpy.ndarray'>\n",
      "2\n",
      "(9767, 1)\n",
      "[[ 22.]\n",
      " [ 25.]\n",
      " [ 30.]\n",
      " ..., \n",
      " [ 24.]\n",
      " [ 26.]\n",
      " [ 30.]]\n",
      "[[13]\n",
      " [26]\n",
      " [35]\n",
      " ..., \n",
      " [17]\n",
      " [26]\n",
      " [55]]\n"
     ]
    }
   ],
   "source": [
    "# inverse scaled values to get real stock price\n",
    "predicted_lotto_numbers = np.around(sc.inverse_transform(y_predicted))\n",
    "# predicted_lotto_numbers = sc.transform(y_predicted)\n",
    "# predicted_lotto_numbers = y_predicted\n",
    "print (type(predicted_lotto_numbers))\n",
    "print (predicted_lotto_numbers.ndim)\n",
    "print (predicted_lotto_numbers.shape)\n",
    "print (predicted_lotto_numbers)\n",
    "print (y_test)"
   ]
  },
  {
   "cell_type": "code",
   "execution_count": 21,
   "metadata": {},
   "outputs": [
    {
     "name": "stdout",
     "output_type": "stream",
     "text": [
      "Accuracy: 0.0247773113546\n"
     ]
    }
   ],
   "source": [
    "true_predictions = predicted_lotto_numbers == y_test\n",
    "print (\"Accuracy:\", np.sum(true_predictions)/np.size(true_predictions))"
   ]
  },
  {
   "cell_type": "code",
   "execution_count": 22,
   "metadata": {
    "collapsed": true
   },
   "outputs": [],
   "source": [
    "# Part 4: Let's Visualize the results\n",
    "\n",
    "import matplotlib.pyplot as plt\n",
    "%matplotlib inline"
   ]
  },
  {
   "cell_type": "code",
   "execution_count": 23,
   "metadata": {},
   "outputs": [
    {
     "data": {
      "image/png": "[encoded data removed]",
      "text/plain": [
       "<matplotlib.figure.Figure at 0x11dc2fef0>"
      ]
     },
     "metadata": {},
     "output_type": "display_data"
    }
   ],
   "source": [
    "plt.plot(real_lotto_numbers, color='red', label = 'Real Lotto Numbers')\n",
    "plt.plot(predicted_lotto_numbers, color='blue', label = 'Predicted Lotto Numbers')\n",
    "plt.title('Lotto Numbers Prediction')\n",
    "plt.xlabel('Lotto Results')\n",
    "plt.ylabel('Lotto Numbers')\n",
    "plt.legend()\n",
    "plt.show()"
   ]
  },
  {
   "cell_type": "code",
   "execution_count": 24,
   "metadata": {},
   "outputs": [
    {
     "name": "stdout",
     "output_type": "stream",
     "text": [
      "<class 'numpy.ndarray'>\n",
      "2\n",
      "(9768, 1)\n",
      "[[ 0.13559322]\n",
      " [ 0.22033898]\n",
      " [ 0.44067797]\n",
      " ..., \n",
      " [ 0.28813559]\n",
      " [ 0.44067797]\n",
      " [ 0.93220339]]\n"
     ]
    }
   ],
   "source": [
    "X_sample = testing_set_val\n",
    "X_sample = sc.fit_transform(X_sample)\n",
    "print (type(X_sample))\n",
    "print (X_sample.ndim)\n",
    "print (X_sample.shape)\n",
    "print (X_sample)\n",
    "# in the end inverse fit transform to get normal stock open price back\n",
    "# X_test = real_lotto_numbers"
   ]
  },
  {
   "cell_type": "code",
   "execution_count": 25,
   "metadata": {},
   "outputs": [
    {
     "name": "stdout",
     "output_type": "stream",
     "text": [
      "<class 'numpy.ndarray'>\n",
      "3\n",
      "(9768, 1, 1)\n",
      "[[[ 0.13559322]]\n",
      "\n",
      " [[ 0.22033898]]\n",
      "\n",
      " [[ 0.44067797]]\n",
      "\n",
      " ..., \n",
      " [[ 0.28813559]]\n",
      "\n",
      " [[ 0.44067797]]\n",
      "\n",
      " [[ 0.93220339]]]\n"
     ]
    }
   ],
   "source": [
    "# Reshaping\n",
    "\n",
    "# chaging from 2 to 3 dimension array, by addding time step as 3rd dimension\n",
    "# corresponds to (batch_size, timesteps, input_dim)\n",
    "sample_inputs = np.reshape(X_sample,(9768,1,1))\n",
    "print (type(sample_inputs))\n",
    "print (sample_inputs.ndim)\n",
    "print (sample_inputs.shape)\n",
    "print (sample_inputs)"
   ]
  },
  {
   "cell_type": "code",
   "execution_count": 26,
   "metadata": {},
   "outputs": [
    {
     "name": "stdout",
     "output_type": "stream",
     "text": [
      "<class 'numpy.ndarray'>\n",
      "2\n",
      "(9768, 1)\n",
      "[[ 0.37335977]\n",
      " [ 0.41680336]\n",
      " [ 0.50441271]\n",
      " ..., \n",
      " [ 0.44783846]\n",
      " [ 0.50441271]\n",
      " [ 0.59640855]]\n"
     ]
    }
   ],
   "source": [
    "# Now, let's predict\n",
    "y_sample = regressor.predict(sample_inputs)\n",
    "print (type(y_sample))\n",
    "print (y_sample.ndim)\n",
    "print (y_sample.shape)\n",
    "print (y_sample)"
   ]
  },
  {
   "cell_type": "code",
   "execution_count": 27,
   "metadata": {},
   "outputs": [
    {
     "name": "stdout",
     "output_type": "stream",
     "text": [
      "<class 'numpy.ndarray'>\n",
      "2\n",
      "(9768, 1)\n",
      "[[ 22.]\n",
      " [ 25.]\n",
      " [ 30.]\n",
      " ..., \n",
      " [ 26.]\n",
      " [ 30.]\n",
      " [ 35.]]\n"
     ]
    }
   ],
   "source": [
    "# inverse scaled values to get real stock price\n",
    "sample_lotto_numbers = np.around(sc.inverse_transform(y_sample))\n",
    "print (type(sample_lotto_numbers))\n",
    "print (sample_lotto_numbers.ndim)\n",
    "print (sample_lotto_numbers.shape)\n",
    "print (sample_lotto_numbers)"
   ]
  },
  {
   "cell_type": "code",
   "execution_count": 28,
   "metadata": {},
   "outputs": [
    {
     "data": {
      "text/html": [
       "<div>\n",
       "<table border=\"1\" class=\"dataframe\">\n",
       "  <thead>\n",
       "    <tr style=\"text-align: right;\">\n",
       "      <th></th>\n",
       "      <th>real_lotto_numbers</th>\n",
       "      <th>sample_lotto_numbers</th>\n",
       "    </tr>\n",
       "  </thead>\n",
       "  <tbody>\n",
       "    <tr>\n",
       "      <th>9168</th>\n",
       "      <td>16</td>\n",
       "      <td>26.0</td>\n",
       "    </tr>\n",
       "    <tr>\n",
       "      <th>9169</th>\n",
       "      <td>18</td>\n",
       "      <td>27.0</td>\n",
       "    </tr>\n",
       "    <tr>\n",
       "      <th>9170</th>\n",
       "      <td>26</td>\n",
       "      <td>30.0</td>\n",
       "    </tr>\n",
       "    <tr>\n",
       "      <th>9171</th>\n",
       "      <td>44</td>\n",
       "      <td>34.0</td>\n",
       "    </tr>\n",
       "    <tr>\n",
       "      <th>9172</th>\n",
       "      <td>49</td>\n",
       "      <td>34.0</td>\n",
       "    </tr>\n",
       "    <tr>\n",
       "      <th>9173</th>\n",
       "      <td>51</td>\n",
       "      <td>35.0</td>\n",
       "    </tr>\n",
       "    <tr>\n",
       "      <th>9174</th>\n",
       "      <td>5</td>\n",
       "      <td>20.0</td>\n",
       "    </tr>\n",
       "    <tr>\n",
       "      <th>9175</th>\n",
       "      <td>12</td>\n",
       "      <td>24.0</td>\n",
       "    </tr>\n",
       "    <tr>\n",
       "      <th>9176</th>\n",
       "      <td>18</td>\n",
       "      <td>27.0</td>\n",
       "    </tr>\n",
       "    <tr>\n",
       "      <th>9177</th>\n",
       "      <td>33</td>\n",
       "      <td>32.0</td>\n",
       "    </tr>\n",
       "    <tr>\n",
       "      <th>9178</th>\n",
       "      <td>56</td>\n",
       "      <td>35.0</td>\n",
       "    </tr>\n",
       "    <tr>\n",
       "      <th>9179</th>\n",
       "      <td>57</td>\n",
       "      <td>35.0</td>\n",
       "    </tr>\n",
       "    <tr>\n",
       "      <th>9180</th>\n",
       "      <td>8</td>\n",
       "      <td>22.0</td>\n",
       "    </tr>\n",
       "    <tr>\n",
       "      <th>9181</th>\n",
       "      <td>30</td>\n",
       "      <td>31.0</td>\n",
       "    </tr>\n",
       "    <tr>\n",
       "      <th>9182</th>\n",
       "      <td>31</td>\n",
       "      <td>31.0</td>\n",
       "    </tr>\n",
       "    <tr>\n",
       "      <th>9183</th>\n",
       "      <td>32</td>\n",
       "      <td>31.0</td>\n",
       "    </tr>\n",
       "    <tr>\n",
       "      <th>9184</th>\n",
       "      <td>36</td>\n",
       "      <td>32.0</td>\n",
       "    </tr>\n",
       "    <tr>\n",
       "      <th>9185</th>\n",
       "      <td>49</td>\n",
       "      <td>34.0</td>\n",
       "    </tr>\n",
       "    <tr>\n",
       "      <th>9186</th>\n",
       "      <td>3</td>\n",
       "      <td>19.0</td>\n",
       "    </tr>\n",
       "    <tr>\n",
       "      <th>9187</th>\n",
       "      <td>8</td>\n",
       "      <td>22.0</td>\n",
       "    </tr>\n",
       "    <tr>\n",
       "      <th>9188</th>\n",
       "      <td>25</td>\n",
       "      <td>29.0</td>\n",
       "    </tr>\n",
       "    <tr>\n",
       "      <th>9189</th>\n",
       "      <td>43</td>\n",
       "      <td>34.0</td>\n",
       "    </tr>\n",
       "    <tr>\n",
       "      <th>9190</th>\n",
       "      <td>47</td>\n",
       "      <td>34.0</td>\n",
       "    </tr>\n",
       "    <tr>\n",
       "      <th>9191</th>\n",
       "      <td>58</td>\n",
       "      <td>36.0</td>\n",
       "    </tr>\n",
       "    <tr>\n",
       "      <th>9192</th>\n",
       "      <td>19</td>\n",
       "      <td>27.0</td>\n",
       "    </tr>\n",
       "    <tr>\n",
       "      <th>9193</th>\n",
       "      <td>26</td>\n",
       "      <td>30.0</td>\n",
       "    </tr>\n",
       "    <tr>\n",
       "      <th>9194</th>\n",
       "      <td>42</td>\n",
       "      <td>33.0</td>\n",
       "    </tr>\n",
       "    <tr>\n",
       "      <th>9195</th>\n",
       "      <td>47</td>\n",
       "      <td>34.0</td>\n",
       "    </tr>\n",
       "    <tr>\n",
       "      <th>9196</th>\n",
       "      <td>49</td>\n",
       "      <td>34.0</td>\n",
       "    </tr>\n",
       "    <tr>\n",
       "      <th>9197</th>\n",
       "      <td>59</td>\n",
       "      <td>36.0</td>\n",
       "    </tr>\n",
       "    <tr>\n",
       "      <th>...</th>\n",
       "      <td>...</td>\n",
       "      <td>...</td>\n",
       "    </tr>\n",
       "    <tr>\n",
       "      <th>9738</th>\n",
       "      <td>1</td>\n",
       "      <td>18.0</td>\n",
       "    </tr>\n",
       "    <tr>\n",
       "      <th>9739</th>\n",
       "      <td>4</td>\n",
       "      <td>20.0</td>\n",
       "    </tr>\n",
       "    <tr>\n",
       "      <th>9740</th>\n",
       "      <td>16</td>\n",
       "      <td>26.0</td>\n",
       "    </tr>\n",
       "    <tr>\n",
       "      <th>9741</th>\n",
       "      <td>25</td>\n",
       "      <td>29.0</td>\n",
       "    </tr>\n",
       "    <tr>\n",
       "      <th>9742</th>\n",
       "      <td>29</td>\n",
       "      <td>31.0</td>\n",
       "    </tr>\n",
       "    <tr>\n",
       "      <th>9743</th>\n",
       "      <td>56</td>\n",
       "      <td>35.0</td>\n",
       "    </tr>\n",
       "    <tr>\n",
       "      <th>9744</th>\n",
       "      <td>14</td>\n",
       "      <td>25.0</td>\n",
       "    </tr>\n",
       "    <tr>\n",
       "      <th>9745</th>\n",
       "      <td>15</td>\n",
       "      <td>26.0</td>\n",
       "    </tr>\n",
       "    <tr>\n",
       "      <th>9746</th>\n",
       "      <td>21</td>\n",
       "      <td>28.0</td>\n",
       "    </tr>\n",
       "    <tr>\n",
       "      <th>9747</th>\n",
       "      <td>23</td>\n",
       "      <td>29.0</td>\n",
       "    </tr>\n",
       "    <tr>\n",
       "      <th>9748</th>\n",
       "      <td>41</td>\n",
       "      <td>33.0</td>\n",
       "    </tr>\n",
       "    <tr>\n",
       "      <th>9749</th>\n",
       "      <td>50</td>\n",
       "      <td>35.0</td>\n",
       "    </tr>\n",
       "    <tr>\n",
       "      <th>9750</th>\n",
       "      <td>4</td>\n",
       "      <td>20.0</td>\n",
       "    </tr>\n",
       "    <tr>\n",
       "      <th>9751</th>\n",
       "      <td>15</td>\n",
       "      <td>26.0</td>\n",
       "    </tr>\n",
       "    <tr>\n",
       "      <th>9752</th>\n",
       "      <td>24</td>\n",
       "      <td>29.0</td>\n",
       "    </tr>\n",
       "    <tr>\n",
       "      <th>9753</th>\n",
       "      <td>33</td>\n",
       "      <td>32.0</td>\n",
       "    </tr>\n",
       "    <tr>\n",
       "      <th>9754</th>\n",
       "      <td>37</td>\n",
       "      <td>33.0</td>\n",
       "    </tr>\n",
       "    <tr>\n",
       "      <th>9755</th>\n",
       "      <td>58</td>\n",
       "      <td>36.0</td>\n",
       "    </tr>\n",
       "    <tr>\n",
       "      <th>9756</th>\n",
       "      <td>2</td>\n",
       "      <td>19.0</td>\n",
       "    </tr>\n",
       "    <tr>\n",
       "      <th>9757</th>\n",
       "      <td>10</td>\n",
       "      <td>23.0</td>\n",
       "    </tr>\n",
       "    <tr>\n",
       "      <th>9758</th>\n",
       "      <td>38</td>\n",
       "      <td>33.0</td>\n",
       "    </tr>\n",
       "    <tr>\n",
       "      <th>9759</th>\n",
       "      <td>50</td>\n",
       "      <td>35.0</td>\n",
       "    </tr>\n",
       "    <tr>\n",
       "      <th>9760</th>\n",
       "      <td>53</td>\n",
       "      <td>35.0</td>\n",
       "    </tr>\n",
       "    <tr>\n",
       "      <th>9761</th>\n",
       "      <td>57</td>\n",
       "      <td>35.0</td>\n",
       "    </tr>\n",
       "    <tr>\n",
       "      <th>9762</th>\n",
       "      <td>4</td>\n",
       "      <td>20.0</td>\n",
       "    </tr>\n",
       "    <tr>\n",
       "      <th>9763</th>\n",
       "      <td>7</td>\n",
       "      <td>21.0</td>\n",
       "    </tr>\n",
       "    <tr>\n",
       "      <th>9764</th>\n",
       "      <td>12</td>\n",
       "      <td>24.0</td>\n",
       "    </tr>\n",
       "    <tr>\n",
       "      <th>9765</th>\n",
       "      <td>17</td>\n",
       "      <td>26.0</td>\n",
       "    </tr>\n",
       "    <tr>\n",
       "      <th>9766</th>\n",
       "      <td>26</td>\n",
       "      <td>30.0</td>\n",
       "    </tr>\n",
       "    <tr>\n",
       "      <th>9767</th>\n",
       "      <td>55</td>\n",
       "      <td>35.0</td>\n",
       "    </tr>\n",
       "  </tbody>\n",
       "</table>\n",
       "<p>600 rows × 2 columns</p>\n",
       "</div>"
      ],
      "text/plain": [
       "      real_lotto_numbers  sample_lotto_numbers\n",
       "9168                  16                  26.0\n",
       "9169                  18                  27.0\n",
       "9170                  26                  30.0\n",
       "9171                  44                  34.0\n",
       "9172                  49                  34.0\n",
       "9173                  51                  35.0\n",
       "9174                   5                  20.0\n",
       "9175                  12                  24.0\n",
       "9176                  18                  27.0\n",
       "9177                  33                  32.0\n",
       "9178                  56                  35.0\n",
       "9179                  57                  35.0\n",
       "9180                   8                  22.0\n",
       "9181                  30                  31.0\n",
       "9182                  31                  31.0\n",
       "9183                  32                  31.0\n",
       "9184                  36                  32.0\n",
       "9185                  49                  34.0\n",
       "9186                   3                  19.0\n",
       "9187                   8                  22.0\n",
       "9188                  25                  29.0\n",
       "9189                  43                  34.0\n",
       "9190                  47                  34.0\n",
       "9191                  58                  36.0\n",
       "9192                  19                  27.0\n",
       "9193                  26                  30.0\n",
       "9194                  42                  33.0\n",
       "9195                  47                  34.0\n",
       "9196                  49                  34.0\n",
       "9197                  59                  36.0\n",
       "...                  ...                   ...\n",
       "9738                   1                  18.0\n",
       "9739                   4                  20.0\n",
       "9740                  16                  26.0\n",
       "9741                  25                  29.0\n",
       "9742                  29                  31.0\n",
       "9743                  56                  35.0\n",
       "9744                  14                  25.0\n",
       "9745                  15                  26.0\n",
       "9746                  21                  28.0\n",
       "9747                  23                  29.0\n",
       "9748                  41                  33.0\n",
       "9749                  50                  35.0\n",
       "9750                   4                  20.0\n",
       "9751                  15                  26.0\n",
       "9752                  24                  29.0\n",
       "9753                  33                  32.0\n",
       "9754                  37                  33.0\n",
       "9755                  58                  36.0\n",
       "9756                   2                  19.0\n",
       "9757                  10                  23.0\n",
       "9758                  38                  33.0\n",
       "9759                  50                  35.0\n",
       "9760                  53                  35.0\n",
       "9761                  57                  35.0\n",
       "9762                   4                  20.0\n",
       "9763                   7                  21.0\n",
       "9764                  12                  24.0\n",
       "9765                  17                  26.0\n",
       "9766                  26                  30.0\n",
       "9767                  55                  35.0\n",
       "\n",
       "[600 rows x 2 columns]"
      ]
     },
     "execution_count": 28,
     "metadata": {},
     "output_type": "execute_result"
    }
   ],
   "source": [
    "# new_shape = real_lotto_numbers.reshape((11396))\n",
    "# print (type(new_shape))\n",
    "# print (new_shape.ndim)\n",
    "# print (new_shape.shape)\n",
    "# print (new_shape)\n",
    "                           \n",
    "real_lotto_numbers_df = pd.Series(real_lotto_numbers.reshape((9768)), name='real_lotto_numbers')\n",
    "sample_lotto_numbers_df = pd.Series(sample_lotto_numbers.reshape((9768)), name='sample_lotto_numbers')\n",
    "comparison_df = pd.concat([real_lotto_numbers_df, sample_lotto_numbers_df], axis=1)\n",
    "comparison_df.tail(600)"
   ]
  },
  {
   "cell_type": "code",
   "execution_count": null,
   "metadata": {
    "collapsed": true
   },
   "outputs": [],
   "source": []
  },
  {
   "cell_type": "code",
   "execution_count": null,
   "metadata": {
    "collapsed": true
   },
   "outputs": [],
   "source": []
  }
 ],
 "metadata": {
  "kernelspec": {
   "display_name": "Python 3",
   "language": "python",
   "name": "python3"
  },
  "language_info": {
   "codemirror_mode": {
    "name": "ipython",
    "version": 3
   },
   "file_extension": ".py",
   "mimetype": "text/x-python",
   "name": "python",
   "nbconvert_exporter": "python",
   "pygments_lexer": "ipython3",
   "version": "3.6.1"
  }
 },
 "nbformat": 4,
 "nbformat_minor": 2
}
