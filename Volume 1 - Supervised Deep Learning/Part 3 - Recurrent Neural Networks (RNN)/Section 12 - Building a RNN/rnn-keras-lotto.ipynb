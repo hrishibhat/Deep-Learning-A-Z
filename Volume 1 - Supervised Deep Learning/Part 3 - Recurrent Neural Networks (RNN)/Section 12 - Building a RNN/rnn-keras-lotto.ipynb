{
 "cells": [
  {
   "cell_type": "markdown",
   "metadata": {},
   "source": [
    "# Part 1: Data Preprocessing"
   ]
  },
  {
   "cell_type": "code",
   "execution_count": 112,
   "metadata": {
    "collapsed": true
   },
   "outputs": [],
   "source": [
    "# Import usual suspects\n",
    "import numpy as np\n",
    "import pandas as pd"
   ]
  },
  {
   "cell_type": "code",
   "execution_count": 113,
   "metadata": {},
   "outputs": [
    {
     "data": {
      "text/html": [
       "<div>\n",
       "<table border=\"1\" class=\"dataframe\">\n",
       "  <thead>\n",
       "    <tr style=\"text-align: right;\">\n",
       "      <th></th>\n",
       "      <th>0</th>\n",
       "      <th>1</th>\n",
       "      <th>2</th>\n",
       "      <th>3</th>\n",
       "      <th>4</th>\n",
       "      <th>5</th>\n",
       "    </tr>\n",
       "  </thead>\n",
       "  <tbody>\n",
       "    <tr>\n",
       "      <th>0</th>\n",
       "      <td>8</td>\n",
       "      <td>13</td>\n",
       "      <td>26</td>\n",
       "      <td>35</td>\n",
       "      <td>45</td>\n",
       "      <td>51</td>\n",
       "    </tr>\n",
       "    <tr>\n",
       "      <th>1</th>\n",
       "      <td>1</td>\n",
       "      <td>15</td>\n",
       "      <td>24</td>\n",
       "      <td>31</td>\n",
       "      <td>34</td>\n",
       "      <td>44</td>\n",
       "    </tr>\n",
       "    <tr>\n",
       "      <th>2</th>\n",
       "      <td>3</td>\n",
       "      <td>8</td>\n",
       "      <td>29</td>\n",
       "      <td>30</td>\n",
       "      <td>31</td>\n",
       "      <td>49</td>\n",
       "    </tr>\n",
       "    <tr>\n",
       "      <th>3</th>\n",
       "      <td>21</td>\n",
       "      <td>25</td>\n",
       "      <td>39</td>\n",
       "      <td>50</td>\n",
       "      <td>54</td>\n",
       "      <td>59</td>\n",
       "    </tr>\n",
       "    <tr>\n",
       "      <th>4</th>\n",
       "      <td>15</td>\n",
       "      <td>19</td>\n",
       "      <td>32</td>\n",
       "      <td>38</td>\n",
       "      <td>47</td>\n",
       "      <td>50</td>\n",
       "    </tr>\n",
       "  </tbody>\n",
       "</table>\n",
       "</div>"
      ],
      "text/plain": [
       "    0   1   2   3   4   5\n",
       "0   8  13  26  35  45  51\n",
       "1   1  15  24  31  34  44\n",
       "2   3   8  29  30  31  49\n",
       "3  21  25  39  50  54  59\n",
       "4  15  19  32  38  47  50"
      ]
     },
     "execution_count": 113,
     "metadata": {},
     "output_type": "execute_result"
    }
   ],
   "source": [
    "# Importing  the training set\n",
    "pd_training_set = pd.read_csv('Lottery_NY_Lotto_Winning_Numbers__Beginning_2001_without_bonus.csv', header=None)\n",
    "pd_training_set.head()"
   ]
  },
  {
   "cell_type": "code",
   "execution_count": 114,
   "metadata": {},
   "outputs": [],
   "source": [
    "# Training Set\n",
    "# now add each column of six rows into next 6 rows of first column\n",
    "two_dim_lotto_array_train = []\n",
    "# take 300 rows less from total for testing and rest use for training\n",
    "for col in pd_training_set.iloc[:-300,:].values:\n",
    "#     print (col)\n",
    "    for row in col:\n",
    "        two_dim_lotto_array_train.append([row])\n",
    "#         print (row)"
   ]
  },
  {
   "cell_type": "code",
   "execution_count": 115,
   "metadata": {},
   "outputs": [
    {
     "name": "stdout",
     "output_type": "stream",
     "text": [
      "<class 'numpy.ndarray'>\n",
      "2\n",
      "(7968, 1)\n",
      "[[ 8]\n",
      " [13]\n",
      " [26]\n",
      " ..., \n",
      " [29]\n",
      " [46]\n",
      " [50]]\n"
     ]
    }
   ],
   "source": [
    "# convert python list into numpy array\n",
    "training_set_val = np.array(two_dim_lotto_array_train, ndmin=2)\n",
    "\n",
    "print (type(training_set_val))\n",
    "print (training_set_val.ndim)\n",
    "print (training_set_val.shape)\n",
    "print (training_set_val)"
   ]
  },
  {
   "cell_type": "code",
   "execution_count": 116,
   "metadata": {},
   "outputs": [],
   "source": [
    "# Testing Set\n",
    "# now add each column of six rows into next 6 rows of first column\n",
    "two_dim_lotto_array_test = []\n",
    "# take 300 rows less from total for testing and rest use for training\n",
    "for col in pd_training_set.iloc[-300:,:].values:\n",
    "#     print (col)\n",
    "    for row in col:\n",
    "        two_dim_lotto_array_test.append([row])\n",
    "#         print (row)"
   ]
  },
  {
   "cell_type": "code",
   "execution_count": 117,
   "metadata": {},
   "outputs": [
    {
     "name": "stdout",
     "output_type": "stream",
     "text": [
      "<class 'numpy.ndarray'>\n",
      "2\n",
      "(1800, 1)\n",
      "[[ 1]\n",
      " [28]\n",
      " [38]\n",
      " ..., \n",
      " [17]\n",
      " [26]\n",
      " [55]]\n"
     ]
    }
   ],
   "source": [
    "# convert python list into numpy array\n",
    "testing_set_val = np.array(two_dim_lotto_array_test, ndmin=2)\n",
    "\n",
    "print (type(testing_set_val))\n",
    "print (testing_set_val.ndim)\n",
    "print (testing_set_val.shape)\n",
    "print (testing_set_val)"
   ]
  },
  {
   "cell_type": "code",
   "execution_count": 118,
   "metadata": {},
   "outputs": [],
   "source": [
    "# # NOw let's take only open price of stock\n",
    "# # if we choose pd_training_set.iloc[:,1].values It will be only 1 dim numpy array\n",
    "# # however, we need 2 dimension numpy array\n",
    "# training_set_val = pd_training_set.iloc[:,1:2].values\n",
    "# print (type(training_set_val))\n",
    "# print (training_set_val.ndim)\n",
    "# print (training_set_val.shape)\n",
    "# print (training_set_val)"
   ]
  },
  {
   "cell_type": "code",
   "execution_count": 119,
   "metadata": {},
   "outputs": [],
   "source": [
    "# # Now, let's do normalization\n",
    "# from sklearn.preprocessing import MinMaxScaler\n",
    "# sc = MinMaxScaler()\n",
    "\n",
    "# training_set = sc.fit_transform(training_set_val)\n",
    "# print (training_set)\n",
    "# print (type(training_set))\n",
    "# print (training_set.ndim)\n",
    "# print (training_set.shape)\n",
    "\n",
    "# # ALSO TRY STANDARDIZATION INSTEAD OF NORMALIZATION\n",
    "\n",
    "training_set = training_set_val"
   ]
  },
  {
   "cell_type": "code",
   "execution_count": 120,
   "metadata": {},
   "outputs": [
    {
     "name": "stdout",
     "output_type": "stream",
     "text": [
      "[[ 8]\n",
      " [13]\n",
      " [26]\n",
      " ..., \n",
      " [19]\n",
      " [29]\n",
      " [46]]\n"
     ]
    }
   ],
   "source": [
    "# Now we are setting X_train and y_train\n",
    "# X_train is time at 0 value and y_train is time at +1 value\n",
    "X_train = training_set[0:7967]\n",
    "print (X_train)"
   ]
  },
  {
   "cell_type": "code",
   "execution_count": 121,
   "metadata": {},
   "outputs": [
    {
     "name": "stdout",
     "output_type": "stream",
     "text": [
      "[[13]\n",
      " [26]\n",
      " [35]\n",
      " ..., \n",
      " [29]\n",
      " [46]\n",
      " [50]]\n"
     ]
    }
   ],
   "source": [
    "# y_train is time+1 value\n",
    "y_train = training_set[1:7968]\n",
    "print (y_train)"
   ]
  },
  {
   "cell_type": "code",
   "execution_count": 122,
   "metadata": {},
   "outputs": [
    {
     "name": "stdout",
     "output_type": "stream",
     "text": [
      "[[[ 8]]\n",
      "\n",
      " [[13]]\n",
      "\n",
      " [[26]]\n",
      "\n",
      " ..., \n",
      " [[19]]\n",
      "\n",
      " [[29]]\n",
      "\n",
      " [[46]]]\n"
     ]
    }
   ],
   "source": [
    "# Now, Reshaping for keras before training, as it requires 3 dimenions\n",
    "\n",
    "# changing from 2 to 3 dimension array, by addding time step as 3rd dimension\n",
    "# corresponds to (batch_size, timesteps, input_dim)\n",
    "X_train = np.reshape(X_train,(7967,1,1))\n",
    "print (X_train)"
   ]
  },
  {
   "cell_type": "code",
   "execution_count": null,
   "metadata": {
    "collapsed": true
   },
   "outputs": [],
   "source": []
  },
  {
   "cell_type": "markdown",
   "metadata": {},
   "source": [
    "# Part 2: Initializing the RNN"
   ]
  },
  {
   "cell_type": "code",
   "execution_count": 123,
   "metadata": {},
   "outputs": [],
   "source": [
    "# importing the Keras liabraries and packages\n",
    "from keras.models import Sequential\n",
    "from keras.layers import Dense\n",
    "from keras.layers import LSTM"
   ]
  },
  {
   "cell_type": "code",
   "execution_count": 124,
   "metadata": {
    "collapsed": true
   },
   "outputs": [],
   "source": [
    "# Create a regressor bassed upon sequential RNN\n",
    "# classifier = Sequential()\n",
    "# classifier.add(LSTM(units=10, activation='sigmoid', input_shape=(None, 1)))\n",
    "# classifier.add(Dense(units=1))\n",
    "regressor = Sequential()\n",
    "regressor.add(LSTM(units=10, activation='sigmoid', input_shape=(None, 1)))\n",
    "regressor.add(Dense(units=1))"
   ]
  },
  {
   "cell_type": "code",
   "execution_count": 125,
   "metadata": {
    "collapsed": true
   },
   "outputs": [],
   "source": [
    "# Now, let' compile our RNN regressor\n",
    "# classifier.compile(optimizer='rmsprop', loss='categorical_crossentropy')\n",
    "regressor.compile(optimizer='rmsprop', loss='mean_squared_error')"
   ]
  },
  {
   "cell_type": "code",
   "execution_count": 126,
   "metadata": {},
   "outputs": [
    {
     "name": "stdout",
     "output_type": "stream",
     "text": [
      "Epoch 1/200\n",
      "7967/7967 [==============================] - 1s - loss: 1129.5908     \n",
      "Epoch 2/200\n",
      "7967/7967 [==============================] - 1s - loss: 1031.2356     \n",
      "Epoch 3/200\n",
      "7967/7967 [==============================] - 1s - loss: 966.1112     \n",
      "Epoch 4/200\n",
      "7967/7967 [==============================] - 1s - loss: 906.0925     \n",
      "Epoch 5/200\n",
      "7967/7967 [==============================] - 1s - loss: 843.4392     \n",
      "Epoch 6/200\n",
      "7967/7967 [==============================] - 1s - loss: 759.0859     \n",
      "Epoch 7/200\n",
      "7967/7967 [==============================] - 1s - loss: 677.8462     \n",
      "Epoch 8/200\n",
      "7967/7967 [==============================] - 1s - loss: 609.0655     \n",
      "Epoch 9/200\n",
      "7967/7967 [==============================] - 1s - loss: 551.4665     \n",
      "Epoch 10/200\n",
      "7967/7967 [==============================] - 1s - loss: 499.8991     \n",
      "Epoch 11/200\n",
      "7967/7967 [==============================] - 1s - loss: 453.5067     \n",
      "Epoch 12/200\n",
      "7967/7967 [==============================] - 1s - loss: 412.6569     \n",
      "Epoch 13/200\n",
      "7967/7967 [==============================] - 1s - loss: 376.6594     \n",
      "Epoch 14/200\n",
      "7967/7967 [==============================] - 1s - loss: 345.3217     \n",
      "Epoch 15/200\n",
      "7967/7967 [==============================] - 1s - loss: 318.0371     \n",
      "Epoch 16/200\n",
      "7967/7967 [==============================] - 1s - loss: 294.9347     \n",
      "Epoch 17/200\n",
      "7967/7967 [==============================] - 1s - loss: 276.1457     \n",
      "Epoch 18/200\n",
      "7967/7967 [==============================] - 1s - loss: 261.4571     \n",
      "Epoch 19/200\n",
      "7967/7967 [==============================] - 1s - loss: 249.7580     \n",
      "Epoch 20/200\n",
      "7967/7967 [==============================] - 1s - loss: 241.4999     \n",
      "Epoch 21/200\n",
      "7967/7967 [==============================] - 1s - loss: 236.0957     \n",
      "Epoch 22/200\n",
      "7967/7967 [==============================] - 1s - loss: 232.9380     \n",
      "Epoch 23/200\n",
      "7967/7967 [==============================] - 1s - loss: 231.0023     \n",
      "Epoch 24/200\n",
      "7967/7967 [==============================] - 1s - loss: 229.9282     \n",
      "Epoch 25/200\n",
      "7967/7967 [==============================] - 1s - loss: 229.3195     \n",
      "Epoch 26/200\n",
      "7967/7967 [==============================] - 1s - loss: 228.9383     \n",
      "Epoch 27/200\n",
      "7967/7967 [==============================] - 1s - loss: 228.7820     \n",
      "Epoch 28/200\n",
      "7967/7967 [==============================] - 1s - loss: 228.6480     \n",
      "Epoch 29/200\n",
      "7967/7967 [==============================] - 1s - loss: 228.5722     \n",
      "Epoch 30/200\n",
      "7967/7967 [==============================] - 1s - loss: 228.5115     \n",
      "Epoch 31/200\n",
      "7967/7967 [==============================] - 1s - loss: 228.4614     \n",
      "Epoch 32/200\n",
      "7967/7967 [==============================] - 1s - loss: 228.3813     \n",
      "Epoch 33/200\n",
      "7967/7967 [==============================] - 1s - loss: 228.4500     \n",
      "Epoch 34/200\n",
      "7967/7967 [==============================] - 1s - loss: 228.4153     \n",
      "Epoch 35/200\n",
      "7967/7967 [==============================] - 1s - loss: 228.4177     \n",
      "Epoch 36/200\n",
      "7967/7967 [==============================] - 1s - loss: 228.3989     \n",
      "Epoch 37/200\n",
      "7967/7967 [==============================] - 1s - loss: 228.3666     \n",
      "Epoch 38/200\n",
      "7967/7967 [==============================] - 1s - loss: 228.3827     \n",
      "Epoch 39/200\n",
      "7967/7967 [==============================] - 1s - loss: 228.4141     \n",
      "Epoch 40/200\n",
      "7967/7967 [==============================] - 1s - loss: 228.3818     \n",
      "Epoch 41/200\n",
      "7967/7967 [==============================] - 1s - loss: 228.3985     \n",
      "Epoch 42/200\n",
      "7967/7967 [==============================] - 1s - loss: 228.3982     \n",
      "Epoch 43/200\n",
      "7967/7967 [==============================] - 1s - loss: 228.3708     \n",
      "Epoch 44/200\n",
      "7967/7967 [==============================] - 1s - loss: 228.3663     \n",
      "Epoch 45/200\n",
      "7967/7967 [==============================] - 1s - loss: 228.3725     \n",
      "Epoch 46/200\n",
      "7967/7967 [==============================] - 1s - loss: 228.3865     \n",
      "Epoch 47/200\n",
      "7967/7967 [==============================] - 1s - loss: 228.3950     \n",
      "Epoch 48/200\n",
      "7967/7967 [==============================] - 1s - loss: 228.3634     \n",
      "Epoch 49/200\n",
      "7967/7967 [==============================] - 1s - loss: 228.3875     \n",
      "Epoch 50/200\n",
      "7967/7967 [==============================] - 1s - loss: 228.3544     \n",
      "Epoch 51/200\n",
      "7967/7967 [==============================] - 1s - loss: 228.3671     \n",
      "Epoch 52/200\n",
      "7967/7967 [==============================] - 1s - loss: 228.3768     \n",
      "Epoch 53/200\n",
      "7967/7967 [==============================] - 1s - loss: 228.3537     \n",
      "Epoch 54/200\n",
      "7967/7967 [==============================] - 1s - loss: 228.3892     \n",
      "Epoch 55/200\n",
      "7967/7967 [==============================] - 1s - loss: 228.3814     \n",
      "Epoch 56/200\n",
      "7967/7967 [==============================] - 1s - loss: 228.3889     \n",
      "Epoch 57/200\n",
      "7967/7967 [==============================] - 1s - loss: 228.3459     \n",
      "Epoch 58/200\n",
      "7967/7967 [==============================] - 1s - loss: 228.3645     \n",
      "Epoch 59/200\n",
      "7967/7967 [==============================] - 1s - loss: 228.3671     \n",
      "Epoch 60/200\n",
      "7967/7967 [==============================] - 1s - loss: 228.3687     \n",
      "Epoch 61/200\n",
      "7967/7967 [==============================] - 1s - loss: 228.3506     \n",
      "Epoch 62/200\n",
      "7967/7967 [==============================] - 1s - loss: 228.3409     \n",
      "Epoch 63/200\n",
      "7967/7967 [==============================] - 1s - loss: 228.4022     \n",
      "Epoch 64/200\n",
      "7967/7967 [==============================] - 1s - loss: 228.3407     \n",
      "Epoch 65/200\n",
      "7967/7967 [==============================] - 1s - loss: 228.3801     \n",
      "Epoch 66/200\n",
      "7967/7967 [==============================] - 1s - loss: 228.3529     \n",
      "Epoch 67/200\n",
      "7967/7967 [==============================] - 1s - loss: 228.3720     \n",
      "Epoch 68/200\n",
      "7967/7967 [==============================] - 1s - loss: 228.3909     \n",
      "Epoch 69/200\n",
      "7967/7967 [==============================] - 1s - loss: 228.3733     \n",
      "Epoch 70/200\n",
      "7967/7967 [==============================] - 1s - loss: 228.3725     \n",
      "Epoch 71/200\n",
      "7967/7967 [==============================] - 1s - loss: 228.3758     \n",
      "Epoch 72/200\n",
      "7967/7967 [==============================] - 1s - loss: 228.3945     \n",
      "Epoch 73/200\n",
      "7967/7967 [==============================] - 1s - loss: 228.3851     \n",
      "Epoch 74/200\n",
      "7967/7967 [==============================] - 1s - loss: 228.4048     \n",
      "Epoch 75/200\n",
      "7967/7967 [==============================] - 1s - loss: 228.3811     \n",
      "Epoch 76/200\n",
      "7967/7967 [==============================] - 1s - loss: 228.3443     \n",
      "Epoch 77/200\n",
      "7967/7967 [==============================] - 1s - loss: 228.3823     \n",
      "Epoch 78/200\n",
      "7967/7967 [==============================] - 1s - loss: 228.3870     \n",
      "Epoch 79/200\n",
      "7967/7967 [==============================] - 1s - loss: 228.3559     \n",
      "Epoch 80/200\n",
      "7967/7967 [==============================] - 1s - loss: 228.3438     \n",
      "Epoch 81/200\n",
      "7967/7967 [==============================] - 1s - loss: 228.3744     \n",
      "Epoch 82/200\n",
      "7967/7967 [==============================] - 1s - loss: 228.3853     \n",
      "Epoch 83/200\n",
      "7967/7967 [==============================] - 1s - loss: 228.3132     \n",
      "Epoch 84/200\n",
      "7967/7967 [==============================] - 1s - loss: 228.3768     \n",
      "Epoch 85/200\n",
      "7967/7967 [==============================] - 1s - loss: 228.3694     \n",
      "Epoch 86/200\n",
      "7967/7967 [==============================] - 1s - loss: 228.3842     \n",
      "Epoch 87/200\n",
      "7967/7967 [==============================] - 1s - loss: 228.3602     \n",
      "Epoch 88/200\n",
      "7967/7967 [==============================] - 1s - loss: 228.3742     \n",
      "Epoch 89/200\n",
      "7967/7967 [==============================] - 1s - loss: 228.3752     \n",
      "Epoch 90/200\n",
      "7967/7967 [==============================] - 1s - loss: 228.3731     \n",
      "Epoch 91/200\n",
      "7967/7967 [==============================] - 1s - loss: 228.3712     \n",
      "Epoch 92/200\n",
      "7967/7967 [==============================] - 1s - loss: 228.3230     \n",
      "Epoch 93/200\n",
      "7967/7967 [==============================] - 1s - loss: 228.3732     \n",
      "Epoch 94/200\n",
      "7967/7967 [==============================] - 1s - loss: 228.3240     \n",
      "Epoch 95/200\n",
      "7967/7967 [==============================] - 1s - loss: 228.3734     \n",
      "Epoch 96/200\n",
      "7967/7967 [==============================] - 1s - loss: 228.3744     \n",
      "Epoch 97/200\n",
      "7967/7967 [==============================] - 1s - loss: 228.3506     \n",
      "Epoch 98/200\n",
      "7967/7967 [==============================] - 1s - loss: 228.3265     \n",
      "Epoch 99/200\n"
     ]
    },
    {
     "name": "stdout",
     "output_type": "stream",
     "text": [
      "7967/7967 [==============================] - 1s - loss: 228.3767     \n",
      "Epoch 100/200\n",
      "7967/7967 [==============================] - 1s - loss: 228.3571     \n",
      "Epoch 101/200\n",
      "7967/7967 [==============================] - 1s - loss: 228.3532     \n",
      "Epoch 102/200\n",
      "7967/7967 [==============================] - 1s - loss: 228.3959     \n",
      "Epoch 103/200\n",
      "7967/7967 [==============================] - 1s - loss: 228.3563     \n",
      "Epoch 104/200\n",
      "7967/7967 [==============================] - 1s - loss: 228.3820     \n",
      "Epoch 105/200\n",
      "7967/7967 [==============================] - 1s - loss: 228.3606     \n",
      "Epoch 106/200\n",
      "7967/7967 [==============================] - 1s - loss: 228.3648     \n",
      "Epoch 107/200\n",
      "7967/7967 [==============================] - 1s - loss: 228.3786     \n",
      "Epoch 108/200\n",
      "7967/7967 [==============================] - 1s - loss: 228.3701     \n",
      "Epoch 109/200\n",
      "7967/7967 [==============================] - 1s - loss: 228.3616     \n",
      "Epoch 110/200\n",
      "7967/7967 [==============================] - 1s - loss: 228.3734     \n",
      "Epoch 111/200\n",
      "7967/7967 [==============================] - 1s - loss: 228.3491     \n",
      "Epoch 112/200\n",
      "7967/7967 [==============================] - 1s - loss: 228.3934     \n",
      "Epoch 113/200\n",
      "7967/7967 [==============================] - 1s - loss: 228.3586     \n",
      "Epoch 114/200\n",
      "7967/7967 [==============================] - 1s - loss: 228.3823     \n",
      "Epoch 115/200\n",
      "7967/7967 [==============================] - 1s - loss: 228.3632     \n",
      "Epoch 116/200\n",
      "7967/7967 [==============================] - 1s - loss: 228.3841     \n",
      "Epoch 117/200\n",
      "7967/7967 [==============================] - 1s - loss: 228.3614     \n",
      "Epoch 118/200\n",
      "7967/7967 [==============================] - 1s - loss: 228.3656     \n",
      "Epoch 119/200\n",
      "7967/7967 [==============================] - 1s - loss: 228.3257     \n",
      "Epoch 120/200\n",
      "7967/7967 [==============================] - 1s - loss: 228.3837     \n",
      "Epoch 121/200\n",
      "7967/7967 [==============================] - 1s - loss: 228.3664     \n",
      "Epoch 122/200\n",
      "7967/7967 [==============================] - 1s - loss: 228.3609     \n",
      "Epoch 123/200\n",
      "7967/7967 [==============================] - 1s - loss: 228.3523     \n",
      "Epoch 124/200\n",
      "7967/7967 [==============================] - 1s - loss: 228.3512     \n",
      "Epoch 125/200\n",
      "7967/7967 [==============================] - 2s - loss: 228.3703     \n",
      "Epoch 126/200\n",
      "7967/7967 [==============================] - 2s - loss: 228.3483     \n",
      "Epoch 127/200\n",
      "7967/7967 [==============================] - 1s - loss: 228.3576     \n",
      "Epoch 128/200\n",
      "7967/7967 [==============================] - 1s - loss: 228.3619     \n",
      "Epoch 129/200\n",
      "7967/7967 [==============================] - 1s - loss: 228.3624     \n",
      "Epoch 130/200\n",
      "7967/7967 [==============================] - 1s - loss: 228.3795     \n",
      "Epoch 131/200\n",
      "7967/7967 [==============================] - 1s - loss: 228.3480     \n",
      "Epoch 132/200\n",
      "7967/7967 [==============================] - 1s - loss: 228.3716     \n",
      "Epoch 133/200\n",
      "7967/7967 [==============================] - 1s - loss: 228.3763     \n",
      "Epoch 134/200\n",
      "7967/7967 [==============================] - 1s - loss: 228.3510     \n",
      "Epoch 135/200\n",
      "7967/7967 [==============================] - 1s - loss: 228.3776     \n",
      "Epoch 136/200\n",
      "7967/7967 [==============================] - 1s - loss: 228.3646     \n",
      "Epoch 137/200\n",
      "7967/7967 [==============================] - 1s - loss: 228.3445     \n",
      "Epoch 138/200\n",
      "7967/7967 [==============================] - 2s - loss: 228.3490     \n",
      "Epoch 139/200\n",
      "7967/7967 [==============================] - 2s - loss: 228.3842     \n",
      "Epoch 140/200\n",
      "7967/7967 [==============================] - 2s - loss: 228.3243     \n",
      "Epoch 141/200\n",
      "7967/7967 [==============================] - 1s - loss: 228.3728     \n",
      "Epoch 142/200\n",
      "7967/7967 [==============================] - 1s - loss: 228.3631     \n",
      "Epoch 143/200\n",
      "7967/7967 [==============================] - 1s - loss: 228.3645     \n",
      "Epoch 144/200\n",
      "7967/7967 [==============================] - 1s - loss: 228.3727     \n",
      "Epoch 145/200\n",
      "7967/7967 [==============================] - 1s - loss: 228.3614     \n",
      "Epoch 146/200\n",
      "7967/7967 [==============================] - 1s - loss: 228.3141     \n",
      "Epoch 147/200\n",
      "7967/7967 [==============================] - 1s - loss: 228.3751     \n",
      "Epoch 148/200\n",
      "7967/7967 [==============================] - 1s - loss: 228.3557     \n",
      "Epoch 149/200\n",
      "7967/7967 [==============================] - 2s - loss: 228.3682     \n",
      "Epoch 150/200\n",
      "7967/7967 [==============================] - 2s - loss: 228.3708     \n",
      "Epoch 151/200\n",
      "7967/7967 [==============================] - 2s - loss: 228.3686     \n",
      "Epoch 152/200\n",
      "7967/7967 [==============================] - 1s - loss: 228.3632     \n",
      "Epoch 153/200\n",
      "7967/7967 [==============================] - 2s - loss: 228.3735     \n",
      "Epoch 154/200\n",
      "7967/7967 [==============================] - 3s - loss: 228.3677     \n",
      "Epoch 155/200\n",
      "7967/7967 [==============================] - 3s - loss: 228.3620     \n",
      "Epoch 156/200\n",
      "7967/7967 [==============================] - 3s - loss: 228.3723     \n",
      "Epoch 157/200\n",
      "7967/7967 [==============================] - 3s - loss: 228.3621     \n",
      "Epoch 158/200\n",
      "7967/7967 [==============================] - 2s - loss: 228.3423     \n",
      "Epoch 159/200\n",
      "7967/7967 [==============================] - 3s - loss: 228.3771     \n",
      "Epoch 160/200\n",
      "7967/7967 [==============================] - 2s - loss: 228.3465     \n",
      "Epoch 161/200\n",
      "7967/7967 [==============================] - 2s - loss: 228.3341     \n",
      "Epoch 162/200\n",
      "7967/7967 [==============================] - 2s - loss: 228.3532     \n",
      "Epoch 163/200\n",
      "7967/7967 [==============================] - 2s - loss: 228.3628     \n",
      "Epoch 164/200\n",
      "7967/7967 [==============================] - 3s - loss: 228.2900     \n",
      "Epoch 165/200\n",
      "7967/7967 [==============================] - 2s - loss: 228.3650     \n",
      "Epoch 166/200\n",
      "7967/7967 [==============================] - 2s - loss: 228.3724     \n",
      "Epoch 167/200\n",
      "7967/7967 [==============================] - 2s - loss: 228.3585     \n",
      "Epoch 168/200\n",
      "7967/7967 [==============================] - 2s - loss: 228.3499     \n",
      "Epoch 169/200\n",
      "7967/7967 [==============================] - 2s - loss: 228.3762     \n",
      "Epoch 170/200\n",
      "7967/7967 [==============================] - 2s - loss: 228.3730     \n",
      "Epoch 171/200\n",
      "7967/7967 [==============================] - 2s - loss: 228.3643     \n",
      "Epoch 172/200\n",
      "7967/7967 [==============================] - 2s - loss: 228.3568     \n",
      "Epoch 173/200\n",
      "7967/7967 [==============================] - 2s - loss: 228.3805     \n",
      "Epoch 174/200\n",
      "7967/7967 [==============================] - 2s - loss: 228.3875     \n",
      "Epoch 175/200\n",
      "7967/7967 [==============================] - 2s - loss: 228.3495     \n",
      "Epoch 176/200\n",
      "7967/7967 [==============================] - 2s - loss: 228.3511     \n",
      "Epoch 177/200\n",
      "7967/7967 [==============================] - 2s - loss: 228.3835     \n",
      "Epoch 178/200\n",
      "7967/7967 [==============================] - 2s - loss: 228.3730     \n",
      "Epoch 179/200\n",
      "7967/7967 [==============================] - 2s - loss: 228.3655     \n",
      "Epoch 180/200\n",
      "7967/7967 [==============================] - 2s - loss: 228.3731     \n",
      "Epoch 181/200\n",
      "7967/7967 [==============================] - 2s - loss: 228.3486     \n",
      "Epoch 182/200\n",
      "7967/7967 [==============================] - 2s - loss: 228.3399     \n",
      "Epoch 183/200\n",
      "7967/7967 [==============================] - 2s - loss: 228.3939     \n",
      "Epoch 184/200\n",
      "7967/7967 [==============================] - 2s - loss: 228.3724     \n",
      "Epoch 185/200\n",
      "7967/7967 [==============================] - 2s - loss: 228.3621     \n",
      "Epoch 186/200\n",
      "7967/7967 [==============================] - 2s - loss: 228.3471     \n",
      "Epoch 187/200\n",
      "7967/7967 [==============================] - 2s - loss: 228.3689     \n",
      "Epoch 188/200\n",
      "7967/7967 [==============================] - 2s - loss: 228.3652     \n",
      "Epoch 189/200\n",
      "7967/7967 [==============================] - 2s - loss: 228.3681     \n",
      "Epoch 190/200\n",
      "7967/7967 [==============================] - 2s - loss: 228.3665     \n",
      "Epoch 191/200\n",
      "7967/7967 [==============================] - 2s - loss: 228.3554     \n",
      "Epoch 192/200\n",
      "7967/7967 [==============================] - 2s - loss: 228.3665     \n",
      "Epoch 193/200\n",
      "7967/7967 [==============================] - 2s - loss: 228.3589     \n",
      "Epoch 194/200\n",
      "7967/7967 [==============================] - 2s - loss: 228.3604     \n",
      "Epoch 195/200\n",
      "7967/7967 [==============================] - 2s - loss: 228.3572     \n",
      "Epoch 196/200\n"
     ]
    },
    {
     "name": "stdout",
     "output_type": "stream",
     "text": [
      "7967/7967 [==============================] - 2s - loss: 228.3733     \n",
      "Epoch 197/200\n",
      "7967/7967 [==============================] - 2s - loss: 228.3417     \n",
      "Epoch 198/200\n",
      "7967/7967 [==============================] - 2s - loss: 228.3294     \n",
      "Epoch 199/200\n",
      "7967/7967 [==============================] - 2s - loss: 228.3646     \n",
      "Epoch 200/200\n",
      "7967/7967 [==============================] - 2s - loss: 228.3312     \n"
     ]
    },
    {
     "data": {
      "text/plain": [
       "<keras.callbacks.History at 0x1293685c0>"
      ]
     },
     "execution_count": 126,
     "metadata": {},
     "output_type": "execute_result"
    }
   ],
   "source": [
    "regressor.fit(X_train ,y_train, batch_size=32, epochs=200)"
   ]
  },
  {
   "cell_type": "markdown",
   "metadata": {},
   "source": [
    "# Part 3: Making Prediction"
   ]
  },
  {
   "cell_type": "code",
   "execution_count": 64,
   "metadata": {},
   "outputs": [],
   "source": [
    "# # Preprocessing for Test_set\n",
    "# # Importing the test set\n",
    "# pd_testing_set = pd.read_csv('Google_Stock_Price_Test.csv')\n",
    "# pd_testing_set.tail()"
   ]
  },
  {
   "cell_type": "code",
   "execution_count": 127,
   "metadata": {},
   "outputs": [
    {
     "name": "stdout",
     "output_type": "stream",
     "text": [
      "<class 'numpy.ndarray'>\n",
      "2\n",
      "(1800, 1)\n",
      "[[ 1]\n",
      " [28]\n",
      " [38]\n",
      " ..., \n",
      " [17]\n",
      " [26]\n",
      " [55]]\n"
     ]
    }
   ],
   "source": [
    "# NOw let's take only open price of stock\n",
    "# if we choose pd_training_set.iloc[:,1] It will be only 1 dim pandas series\n",
    "# however, we need 2 dimension, so\n",
    "real_lotto_numbers = testing_set_val\n",
    "print (type(real_lotto_numbers))\n",
    "print (real_lotto_numbers.ndim)\n",
    "print (real_lotto_numbers.shape)\n",
    "print (real_lotto_numbers)"
   ]
  },
  {
   "cell_type": "code",
   "execution_count": 128,
   "metadata": {},
   "outputs": [],
   "source": [
    "# X_test = sc.fit_transform(real_lotto_numbers)\n",
    "# print (type(X_test))\n",
    "# print (X_test.ndim)\n",
    "# print (X_test.shape)\n",
    "# print (X_test)\n",
    "# # in the end inverse fit transform to get normal stock open price back\n",
    "X_test = real_lotto_numbers"
   ]
  },
  {
   "cell_type": "code",
   "execution_count": 129,
   "metadata": {},
   "outputs": [],
   "source": [
    "# # same for X_test\n",
    "# X_test = testing_set[0:20]\n",
    "# print (X_test)\n",
    "# print (type(X_test))\n",
    "# print (X_test.ndim)\n",
    "# print (X_test.shape)\n",
    "# print (X_test)"
   ]
  },
  {
   "cell_type": "code",
   "execution_count": 130,
   "metadata": {},
   "outputs": [
    {
     "name": "stdout",
     "output_type": "stream",
     "text": [
      "<class 'numpy.ndarray'>\n",
      "3\n",
      "(1800, 1, 1)\n",
      "[[[ 1]]\n",
      "\n",
      " [[28]]\n",
      "\n",
      " [[38]]\n",
      "\n",
      " ..., \n",
      " [[17]]\n",
      "\n",
      " [[26]]\n",
      "\n",
      " [[55]]]\n"
     ]
    }
   ],
   "source": [
    "# Reshaping\n",
    "\n",
    "# chaging from 2 to 3 dimension array, by addding time step as 3rd dimension\n",
    "# corresponds to (batch_size, timesteps, input_dim)\n",
    "test_inputs = np.reshape(X_test,(1800,1,1))\n",
    "print (type(test_inputs))\n",
    "print (test_inputs.ndim)\n",
    "print (test_inputs.shape)\n",
    "print (test_inputs)"
   ]
  },
  {
   "cell_type": "code",
   "execution_count": 131,
   "metadata": {},
   "outputs": [],
   "source": [
    "# Now, let's predict\n",
    "y_test = regressor.predict(test_inputs)"
   ]
  },
  {
   "cell_type": "code",
   "execution_count": 141,
   "metadata": {},
   "outputs": [
    {
     "name": "stdout",
     "output_type": "stream",
     "text": [
      "[[ 10.74979305]\n",
      " [ 35.32204437]\n",
      " [ 35.32256699]\n",
      " ..., \n",
      " [ 26.67741966]\n",
      " [ 35.32151031]\n",
      " [ 35.32258606]]\n",
      "[[ 11.]\n",
      " [ 35.]\n",
      " [ 35.]\n",
      " ..., \n",
      " [ 27.]\n",
      " [ 35.]\n",
      " [ 35.]]\n",
      "[[ 1]\n",
      " [28]\n",
      " [38]\n",
      " ..., \n",
      " [17]\n",
      " [26]\n",
      " [55]]\n",
      "31\n",
      "0.0172222222222\n"
     ]
    }
   ],
   "source": [
    "# inverse scaled values to get real stock price\n",
    "# predicted_lotto_numbers = np.around(sc.inverse_transform(y_test))\n",
    "print (y_test)\n",
    "predicted_lotto_numbers = np.round(y_test,0)\n",
    "print (predicted_lotto_numbers)\n",
    "print (real_lotto_numbers)\n",
    "\n",
    "true_predictions = predicted_lotto_numbers == real_lotto_numbers\n",
    "print (np.sum(true_predictions))\n",
    "print (np.sum(true_predictions)/np.size(true_predictions))"
   ]
  },
  {
   "cell_type": "code",
   "execution_count": 138,
   "metadata": {
    "collapsed": true
   },
   "outputs": [],
   "source": [
    "# Part 4: Let's Visualize the results\n",
    "\n",
    "import matplotlib.pyplot as plt\n",
    "%matplotlib inline"
   ]
  },
  {
   "cell_type": "code",
   "execution_count": 139,
   "metadata": {},
   "outputs": [
    {
     "data": {
      "image/png": "[encoded data removed]",
      "text/plain": [
       "<matplotlib.figure.Figure at 0x129517358>"
      ]
     },
     "metadata": {},
     "output_type": "display_data"
    }
   ],
   "source": [
    "plt.plot(real_lotto_numbers, color='red', label = 'Real Lotto Numbers')\n",
    "plt.plot(predicted_lotto_numbers, color='blue', label = 'Predicted Lotto Numbers')\n",
    "plt.title('Lotto Numbers Prediction')\n",
    "plt.xlabel('Lotto Results')\n",
    "plt.ylabel('Lotto Numbers')\n",
    "plt.legend()\n",
    "plt.show()"
   ]
  },
  {
   "cell_type": "code",
   "execution_count": 32,
   "metadata": {},
   "outputs": [
    {
     "name": "stdout",
     "output_type": "stream",
     "text": [
      "<class 'pandas.core.frame.DataFrame'>\n"
     ]
    },
    {
     "data": {
      "text/html": [
       "<div>\n",
       "<table border=\"1\" class=\"dataframe\">\n",
       "  <thead>\n",
       "    <tr style=\"text-align: right;\">\n",
       "      <th></th>\n",
       "      <th>Open</th>\n",
       "    </tr>\n",
       "  </thead>\n",
       "  <tbody>\n",
       "    <tr>\n",
       "      <th>0</th>\n",
       "      <td>778.81</td>\n",
       "    </tr>\n",
       "    <tr>\n",
       "      <th>1</th>\n",
       "      <td>788.36</td>\n",
       "    </tr>\n",
       "    <tr>\n",
       "      <th>2</th>\n",
       "      <td>786.08</td>\n",
       "    </tr>\n",
       "    <tr>\n",
       "      <th>3</th>\n",
       "      <td>795.26</td>\n",
       "    </tr>\n",
       "    <tr>\n",
       "      <th>4</th>\n",
       "      <td>806.40</td>\n",
       "    </tr>\n",
       "  </tbody>\n",
       "</table>\n",
       "</div>"
      ],
      "text/plain": [
       "     Open\n",
       "0  778.81\n",
       "1  788.36\n",
       "2  786.08\n",
       "3  795.26\n",
       "4  806.40"
      ]
     },
     "execution_count": 32,
     "metadata": {},
     "output_type": "execute_result"
    }
   ],
   "source": [
    "real_stock_price_df = pd.DataFrame(real_stock_price)\n",
    "print (type(real_stock_price_df))\n",
    "real_stock_price_df.head()"
   ]
  },
  {
   "cell_type": "code",
   "execution_count": 31,
   "metadata": {},
   "outputs": [
    {
     "name": "stdout",
     "output_type": "stream",
     "text": [
      "<class 'pandas.core.frame.DataFrame'>\n"
     ]
    },
    {
     "data": {
      "text/html": [
       "<div>\n",
       "<table border=\"1\" class=\"dataframe\">\n",
       "  <thead>\n",
       "    <tr style=\"text-align: right;\">\n",
       "      <th></th>\n",
       "      <th>Predicted_Open</th>\n",
       "    </tr>\n",
       "  </thead>\n",
       "  <tbody>\n",
       "    <tr>\n",
       "      <th>0</th>\n",
       "      <td>779.161133</td>\n",
       "    </tr>\n",
       "    <tr>\n",
       "      <th>1</th>\n",
       "      <td>788.316895</td>\n",
       "    </tr>\n",
       "    <tr>\n",
       "      <th>2</th>\n",
       "      <td>786.100220</td>\n",
       "    </tr>\n",
       "    <tr>\n",
       "      <th>3</th>\n",
       "      <td>795.131042</td>\n",
       "    </tr>\n",
       "    <tr>\n",
       "      <th>4</th>\n",
       "      <td>806.383484</td>\n",
       "    </tr>\n",
       "  </tbody>\n",
       "</table>\n",
       "</div>"
      ],
      "text/plain": [
       "   Predicted_Open\n",
       "0      779.161133\n",
       "1      788.316895\n",
       "2      786.100220\n",
       "3      795.131042\n",
       "4      806.383484"
      ]
     },
     "execution_count": 31,
     "metadata": {},
     "output_type": "execute_result"
    }
   ],
   "source": [
    "predicted_stock_df = pd.DataFrame(predicted_stock_price, columns=['Predicted_Open'])\n",
    "print (type(predicted_stock_df))\n",
    "predicted_stock_df.head()"
   ]
  },
  {
   "cell_type": "code",
   "execution_count": 41,
   "metadata": {},
   "outputs": [
    {
     "name": "stdout",
     "output_type": "stream",
     "text": [
      "0     778.81\n",
      "1     788.36\n",
      "2     786.08\n",
      "3     795.26\n",
      "4     806.40\n",
      "5     807.86\n",
      "6     805.00\n",
      "7     807.14\n",
      "8     807.48\n",
      "9     807.08\n",
      "10    805.81\n",
      "11    805.12\n",
      "12    806.91\n",
      "13    807.25\n",
      "14    822.30\n",
      "15    829.62\n",
      "16    837.81\n",
      "17    834.71\n",
      "18    814.66\n",
      "19    796.86\n",
      "20    799.68\n",
      "Name: Open, dtype: float64\n"
     ]
    }
   ],
   "source": [
    "print (pd_testing_set.iloc[:,1])"
   ]
  },
  {
   "cell_type": "code",
   "execution_count": 42,
   "metadata": {},
   "outputs": [
    {
     "ename": "AssertionError",
     "evalue": "2 columns passed, passed data had 21 columns",
     "output_type": "error",
     "traceback": [
      "\u001b[0;31m---------------------------------------------------------------------------\u001b[0m",
      "\u001b[0;31mAssertionError\u001b[0m                            Traceback (most recent call last)",
      "\u001b[0;32m<ipython-input-42-e610601dd265>\u001b[0m in \u001b[0;36m<module>\u001b[0;34m()\u001b[0m\n\u001b[0;32m----> 1\u001b[0;31m \u001b[0mcomparsion_sheet\u001b[0m \u001b[0;34m=\u001b[0m \u001b[0mpd\u001b[0m\u001b[0;34m.\u001b[0m\u001b[0mDataFrame\u001b[0m\u001b[0;34m(\u001b[0m\u001b[0;34m[\u001b[0m\u001b[0mpd_testing_set\u001b[0m\u001b[0;34m.\u001b[0m\u001b[0miloc\u001b[0m\u001b[0;34m[\u001b[0m\u001b[0;34m:\u001b[0m\u001b[0;34m,\u001b[0m\u001b[0;36m1\u001b[0m\u001b[0;34m]\u001b[0m\u001b[0;34m.\u001b[0m\u001b[0mvalues\u001b[0m\u001b[0;34m,\u001b[0m\u001b[0mpredicted_stock_price\u001b[0m\u001b[0;34m]\u001b[0m\u001b[0;34m,\u001b[0m \u001b[0mcolumns\u001b[0m\u001b[0;34m=\u001b[0m\u001b[0;34m[\u001b[0m\u001b[0;34m'Real_Open_Price'\u001b[0m\u001b[0;34m,\u001b[0m\u001b[0;34m'Predicted_Open_Price'\u001b[0m\u001b[0;34m]\u001b[0m\u001b[0;34m)\u001b[0m\u001b[0;34m\u001b[0m\u001b[0m\n\u001b[0m\u001b[1;32m      2\u001b[0m \u001b[0mcomparsion_sheet\u001b[0m\u001b[0;34m.\u001b[0m\u001b[0mhead\u001b[0m\u001b[0;34m(\u001b[0m\u001b[0;34m)\u001b[0m\u001b[0;34m\u001b[0m\u001b[0m\n",
      "\u001b[0;32m/Users/pankajmathur/anaconda/envs/keras-playground/lib/python3.6/site-packages/pandas/core/frame.py\u001b[0m in \u001b[0;36m__init__\u001b[0;34m(self, data, index, columns, dtype, copy)\u001b[0m\n\u001b[1;32m    303\u001b[0m                     \u001b[0;32mif\u001b[0m \u001b[0mis_named_tuple\u001b[0m\u001b[0;34m(\u001b[0m\u001b[0mdata\u001b[0m\u001b[0;34m[\u001b[0m\u001b[0;36m0\u001b[0m\u001b[0;34m]\u001b[0m\u001b[0;34m)\u001b[0m \u001b[0;32mand\u001b[0m \u001b[0mcolumns\u001b[0m \u001b[0;32mis\u001b[0m \u001b[0;32mNone\u001b[0m\u001b[0;34m:\u001b[0m\u001b[0;34m\u001b[0m\u001b[0m\n\u001b[1;32m    304\u001b[0m                         \u001b[0mcolumns\u001b[0m \u001b[0;34m=\u001b[0m \u001b[0mdata\u001b[0m\u001b[0;34m[\u001b[0m\u001b[0;36m0\u001b[0m\u001b[0;34m]\u001b[0m\u001b[0;34m.\u001b[0m\u001b[0m_fields\u001b[0m\u001b[0;34m\u001b[0m\u001b[0m\n\u001b[0;32m--> 305\u001b[0;31m                     \u001b[0marrays\u001b[0m\u001b[0;34m,\u001b[0m \u001b[0mcolumns\u001b[0m \u001b[0;34m=\u001b[0m \u001b[0m_to_arrays\u001b[0m\u001b[0;34m(\u001b[0m\u001b[0mdata\u001b[0m\u001b[0;34m,\u001b[0m \u001b[0mcolumns\u001b[0m\u001b[0;34m,\u001b[0m \u001b[0mdtype\u001b[0m\u001b[0;34m=\u001b[0m\u001b[0mdtype\u001b[0m\u001b[0;34m)\u001b[0m\u001b[0;34m\u001b[0m\u001b[0m\n\u001b[0m\u001b[1;32m    306\u001b[0m                     \u001b[0mcolumns\u001b[0m \u001b[0;34m=\u001b[0m \u001b[0m_ensure_index\u001b[0m\u001b[0;34m(\u001b[0m\u001b[0mcolumns\u001b[0m\u001b[0;34m)\u001b[0m\u001b[0;34m\u001b[0m\u001b[0m\n\u001b[1;32m    307\u001b[0m \u001b[0;34m\u001b[0m\u001b[0m\n",
      "\u001b[0;32m/Users/pankajmathur/anaconda/envs/keras-playground/lib/python3.6/site-packages/pandas/core/frame.py\u001b[0m in \u001b[0;36m_to_arrays\u001b[0;34m(data, columns, coerce_float, dtype)\u001b[0m\n\u001b[1;32m   5539\u001b[0m         \u001b[0mdata\u001b[0m \u001b[0;34m=\u001b[0m \u001b[0mlmap\u001b[0m\u001b[0;34m(\u001b[0m\u001b[0mtuple\u001b[0m\u001b[0;34m,\u001b[0m \u001b[0mdata\u001b[0m\u001b[0;34m)\u001b[0m\u001b[0;34m\u001b[0m\u001b[0m\n\u001b[1;32m   5540\u001b[0m         return _list_to_arrays(data, columns, coerce_float=coerce_float,\n\u001b[0;32m-> 5541\u001b[0;31m                                dtype=dtype)\n\u001b[0m\u001b[1;32m   5542\u001b[0m \u001b[0;34m\u001b[0m\u001b[0m\n\u001b[1;32m   5543\u001b[0m \u001b[0;34m\u001b[0m\u001b[0m\n",
      "\u001b[0;32m/Users/pankajmathur/anaconda/envs/keras-playground/lib/python3.6/site-packages/pandas/core/frame.py\u001b[0m in \u001b[0;36m_list_to_arrays\u001b[0;34m(data, columns, coerce_float, dtype)\u001b[0m\n\u001b[1;32m   5596\u001b[0m         \u001b[0mcontent\u001b[0m \u001b[0;34m=\u001b[0m \u001b[0mlist\u001b[0m\u001b[0;34m(\u001b[0m\u001b[0mlib\u001b[0m\u001b[0;34m.\u001b[0m\u001b[0mto_object_array\u001b[0m\u001b[0;34m(\u001b[0m\u001b[0mdata\u001b[0m\u001b[0;34m)\u001b[0m\u001b[0;34m.\u001b[0m\u001b[0mT\u001b[0m\u001b[0;34m)\u001b[0m\u001b[0;34m\u001b[0m\u001b[0m\n\u001b[1;32m   5597\u001b[0m     return _convert_object_array(content, columns, dtype=dtype,\n\u001b[0;32m-> 5598\u001b[0;31m                                  coerce_float=coerce_float)\n\u001b[0m\u001b[1;32m   5599\u001b[0m \u001b[0;34m\u001b[0m\u001b[0m\n\u001b[1;32m   5600\u001b[0m \u001b[0;34m\u001b[0m\u001b[0m\n",
      "\u001b[0;32m/Users/pankajmathur/anaconda/envs/keras-playground/lib/python3.6/site-packages/pandas/core/frame.py\u001b[0m in \u001b[0;36m_convert_object_array\u001b[0;34m(content, columns, coerce_float, dtype)\u001b[0m\n\u001b[1;32m   5655\u001b[0m             \u001b[0;31m# caller's responsibility to check for this...\u001b[0m\u001b[0;34m\u001b[0m\u001b[0;34m\u001b[0m\u001b[0m\n\u001b[1;32m   5656\u001b[0m             raise AssertionError('%d columns passed, passed data had %s '\n\u001b[0;32m-> 5657\u001b[0;31m                                  'columns' % (len(columns), len(content)))\n\u001b[0m\u001b[1;32m   5658\u001b[0m \u001b[0;34m\u001b[0m\u001b[0m\n\u001b[1;32m   5659\u001b[0m     \u001b[0;31m# provide soft conversion of object dtypes\u001b[0m\u001b[0;34m\u001b[0m\u001b[0;34m\u001b[0m\u001b[0m\n",
      "\u001b[0;31mAssertionError\u001b[0m: 2 columns passed, passed data had 21 columns"
     ]
    }
   ],
   "source": [
    "comparsion_sheet = pd.DataFrame([pd_testing_set.iloc[:,1].values,predicted_stock_price], columns=['Real_Open_Price','Predicted_Open_Price'])\n",
    "comparsion_sheet.head()"
   ]
  },
  {
   "cell_type": "code",
   "execution_count": null,
   "metadata": {
    "collapsed": true
   },
   "outputs": [],
   "source": []
  }
 ],
 "metadata": {
  "kernelspec": {
   "display_name": "Python 3",
   "language": "python",
   "name": "python3"
  },
  "language_info": {
   "codemirror_mode": {
    "name": "ipython",
    "version": 3
   },
   "file_extension": ".py",
   "mimetype": "text/x-python",
   "name": "python",
   "nbconvert_exporter": "python",
   "pygments_lexer": "ipython3",
   "version": "3.6.1"
  }
 },
 "nbformat": 4,
 "nbformat_minor": 2
}
